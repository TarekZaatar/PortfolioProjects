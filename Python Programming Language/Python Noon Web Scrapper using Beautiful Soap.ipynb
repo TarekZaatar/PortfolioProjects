{
 "cells": [
  {
   "cell_type": "markdown",
   "metadata": {},
   "source": [
    "## Import libraries"
   ]
  },
  {
   "cell_type": "code",
   "execution_count": 2,
   "metadata": {},
   "outputs": [],
   "source": [
    "from bs4 import BeautifulSoup\n",
    "import requests\n",
    "import time\n",
    "import datetime\n",
    "import pandas as pd\n",
    "import csv "
   ]
  },
  {
   "cell_type": "markdown",
   "metadata": {},
   "source": [
    "## Setting up BeautifulSoup"
   ]
  },
  {
   "cell_type": "code",
   "execution_count": 3,
   "metadata": {},
   "outputs": [],
   "source": [
    "URL = 'https://www.noon.com/uae-en/playstation-5-console-disc-version-with-controller/N40633047A/p/?o=f1a1763f22ab6e6b'\n",
    "headers = { \"User-Agent\": \"Mozilla/5.0 (Windows NT 10.0; Win64; x64) AppleWebKit/537.36 (KHTML, like Gecko) Chrome/106.0.0.0 Safari/537.36\", }\n",
    "page = requests.get(URL,headers= headers)\n",
    "\n",
    "soup = BeautifulSoup(page.content, \"html.parser\")\n",
    "soup = BeautifulSoup(soup.prettify() , \"html.parser\" )\n",
    "#soup"
   ]
  },
  {
   "cell_type": "markdown",
   "metadata": {},
   "source": [
    "## Extracting information of interest"
   ]
  },
  {
   "cell_type": "code",
   "execution_count": 4,
   "metadata": {},
   "outputs": [],
   "source": [
    "title = soup.find(class_='sc-c44e3e2d-12 kODUYj')\n",
    "price = soup.find(class_=\"priceNow\")"
   ]
  },
  {
   "cell_type": "markdown",
   "metadata": {},
   "source": [
    "## Cleaning extracted information"
   ]
  },
  {
   "cell_type": "code",
   "execution_count": 5,
   "metadata": {},
   "outputs": [
    {
     "data": {
      "text/plain": [
       "'PlayStation 5 Console (Disc Version) With Controller'"
      ]
     },
     "execution_count": 5,
     "metadata": {},
     "output_type": "execute_result"
    }
   ],
   "source": [
    "title = title.get_text().strip()\n",
    "title"
   ]
  },
  {
   "cell_type": "code",
   "execution_count": 6,
   "metadata": {},
   "outputs": [
    {
     "data": {
      "text/plain": [
       "'2439.00'"
      ]
     },
     "execution_count": 6,
     "metadata": {},
     "output_type": "execute_result"
    }
   ],
   "source": [
    "price = price.get_text().strip()\n",
    "price = price.replace(\" \", \"\")\n",
    "price = \" \".join(price.split())\n",
    "price=price.split(\" \")\n",
    "price=price[1]\n",
    "price"
   ]
  },
  {
   "cell_type": "code",
   "execution_count": 7,
   "metadata": {},
   "outputs": [
    {
     "name": "stdout",
     "output_type": "stream",
     "text": [
      "2022-10-31 10:48:20\n"
     ]
    }
   ],
   "source": [
    "date = datetime.date.today()\n",
    "time = datetime.datetime.now()\n",
    "current_time = str(time.hour) + ':' + str(time.minute) + \":\" + str(time.second)\n",
    "print(date, current_time)"
   ]
  },
  {
   "cell_type": "markdown",
   "metadata": {},
   "source": [
    "## Building up dataset"
   ]
  },
  {
   "cell_type": "code",
   "execution_count": 8,
   "metadata": {},
   "outputs": [],
   "source": [
    "header = ['title','Price','Date','Time']\n",
    "data = [title,price,date,current_time]\n",
    "\n",
    "with open('Noon.csv', 'w', newline='', encoding = 'UTF8' ) as f:\n",
    "    writer = csv.writer(f)\n",
    "    writer.writerow(header)\n",
    "    writer.writerow(data)"
   ]
  },
  {
   "cell_type": "markdown",
   "metadata": {},
   "source": [
    "## Verifying stored data"
   ]
  },
  {
   "cell_type": "code",
   "execution_count": 9,
   "metadata": {},
   "outputs": [
    {
     "data": {
      "text/html": [
       "<div>\n",
       "<style scoped>\n",
       "    .dataframe tbody tr th:only-of-type {\n",
       "        vertical-align: middle;\n",
       "    }\n",
       "\n",
       "    .dataframe tbody tr th {\n",
       "        vertical-align: top;\n",
       "    }\n",
       "\n",
       "    .dataframe thead th {\n",
       "        text-align: right;\n",
       "    }\n",
       "</style>\n",
       "<table border=\"1\" class=\"dataframe\">\n",
       "  <thead>\n",
       "    <tr style=\"text-align: right;\">\n",
       "      <th></th>\n",
       "      <th>title</th>\n",
       "      <th>Price</th>\n",
       "      <th>Date</th>\n",
       "      <th>Time</th>\n",
       "    </tr>\n",
       "  </thead>\n",
       "  <tbody>\n",
       "    <tr>\n",
       "      <th>0</th>\n",
       "      <td>PlayStation 5 Console (Disc Version) With Cont...</td>\n",
       "      <td>2439.0</td>\n",
       "      <td>2022-10-31</td>\n",
       "      <td>10:48:20</td>\n",
       "    </tr>\n",
       "  </tbody>\n",
       "</table>\n",
       "</div>"
      ],
      "text/plain": [
       "                                               title   Price        Date  \\\n",
       "0  PlayStation 5 Console (Disc Version) With Cont...  2439.0  2022-10-31   \n",
       "\n",
       "       Time  \n",
       "0  10:48:20  "
      ]
     },
     "execution_count": 9,
     "metadata": {},
     "output_type": "execute_result"
    }
   ],
   "source": [
    "df = pd.read_csv('Noon.csv')\n",
    "df"
   ]
  },
  {
   "cell_type": "markdown",
   "metadata": {},
   "source": [
    "## Automate the process"
   ]
  },
  {
   "cell_type": "code",
   "execution_count": 10,
   "metadata": {},
   "outputs": [],
   "source": [
    "def price_check():\n",
    "    URL = 'https://www.noon.com/uae-en/playstation-5-console-disc-version-with-controller/N40633047A/p/?o=f1a1763f22ab6e6b'\n",
    "    headers = { \"User-Agent\": \"Mozilla/5.0 (Windows NT 10.0; Win64; x64) AppleWebKit/537.36 (KHTML, like Gecko) Chrome/106.0.0.0 Safari/537.36\", }\n",
    "    page = requests.get(URL,headers= headers)\n",
    "\n",
    "    soup = BeautifulSoup(page.content, \"html.parser\")\n",
    "    soup = BeautifulSoup(soup.prettify() , \"html.parser\" )\n",
    "    soup\n",
    "    \n",
    "    title = soup.find(class_='sc-c44e3e2d-12 kODUYj')\n",
    "    price = soup.find(class_=\"priceNow\")\n",
    "\n",
    "    title = title.get_text().strip()\n",
    "    \n",
    "    price = price.get_text().strip()\n",
    "    price = price.replace(\" \", \"\")\n",
    "    price = \" \".join(price.split())\n",
    "    price=price.split(\" \")\n",
    "    price=price[1]\n",
    "    \n",
    "    date = datetime.date.today()    \n",
    "    time = datetime.datetime.now()\n",
    "    current_time = str(time.hour) + ':' + str(time.minute) + \":\" + str(time.second)\n",
    "   \n",
    "    header = ['title','Price','Date','Time']\n",
    "    data = [title,price,date,current_time]\n",
    "\n",
    "\n",
    "    with open('Noon.csv', 'a+', newline='', encoding = 'UTF8' ) as f:\n",
    "        writer = csv.writer(f)\n",
    "        writer.writerow(data)"
   ]
  },
  {
   "cell_type": "code",
   "execution_count": null,
   "metadata": {},
   "outputs": [],
   "source": [
    "#Run the function twice every 24 hours\n",
    "while True:\n",
    "    price_check()\n",
    "    time.sleep(43200)"
   ]
  },
  {
   "cell_type": "code",
   "execution_count": null,
   "metadata": {},
   "outputs": [],
   "source": [
    "df = pd.read_csv('Noon.csv')\n",
    "df"
   ]
  }
 ],
 "metadata": {
  "kernelspec": {
   "display_name": "Python 3",
   "language": "python",
   "name": "python3"
  },
  "language_info": {
   "codemirror_mode": {
    "name": "ipython",
    "version": 3
   },
   "file_extension": ".py",
   "mimetype": "text/x-python",
   "name": "python",
   "nbconvert_exporter": "python",
   "pygments_lexer": "ipython3",
   "version": "3.8.5"
  }
 },
 "nbformat": 4,
 "nbformat_minor": 4
}
