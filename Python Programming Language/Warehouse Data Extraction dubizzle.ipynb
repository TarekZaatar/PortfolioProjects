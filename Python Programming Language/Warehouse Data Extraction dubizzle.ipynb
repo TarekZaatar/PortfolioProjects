{
 "cells": [
  {
   "cell_type": "markdown",
   "metadata": {},
   "source": [
    "## Importing libraries"
   ]
  },
  {
   "cell_type": "code",
   "execution_count": null,
   "metadata": {},
   "outputs": [],
   "source": [
    "from selenium import webdriver\n",
    "from selenium.webdriver.support.ui import WebDriverWait\n",
    "from selenium.webdriver.common.by import By\n",
    "from selenium.webdriver.support import expected_conditions as EC\n",
    "from selenium.common.exceptions import TimeoutException, NoSuchElementException, StaleElementReferenceException\n",
    "from selenium.webdriver.common.keys import Keys\n",
    "from tqdm import tqdm\n",
    "import pandas as pd\n",
    "import numpy as np\n",
    "import warnings\n",
    "from selenium.webdriver import ActionChains\n",
    "from selenium.webdriver.chrome.options import Options"
   ]
  },
  {
   "cell_type": "code",
   "execution_count": null,
   "metadata": {},
   "outputs": [],
   "source": [
    "chrome_options = Options()\n",
    "chrome_options.add_experimental_option(\"useAutomationExtension\", False)\n",
    "chrome_options.add_experimental_option(\"excludeSwitches\", [\"enable-automation\"])\n",
    "chrome_options.add_argument(\"--start-fullscreen\");"
   ]
  },
  {
   "cell_type": "markdown",
   "metadata": {},
   "source": [
    "### Ignore warnings"
   ]
  },
  {
   "cell_type": "code",
   "execution_count": null,
   "metadata": {},
   "outputs": [],
   "source": [
    "warnings.filterwarnings(\"ignore\", category=DeprecationWarning) "
   ]
  },
  {
   "cell_type": "markdown",
   "metadata": {},
   "source": [
    "## Opening Website using chrome"
   ]
  },
  {
   "cell_type": "code",
   "execution_count": null,
   "metadata": {},
   "outputs": [],
   "source": [
    "path = \"chromedriver.exe\"\n",
    "driver = webdriver.Chrome(path)\n",
    "driver.get(\"https://uae.dubizzle.com/en/property-for-rent/commercial/warehouse/\")\n",
    "driver.maximize_window()\n",
    "\n",
    "action = ActionChains(driver)"
   ]
  },
  {
   "cell_type": "code",
   "execution_count": null,
   "metadata": {},
   "outputs": [],
   "source": [
    "info = {}\n",
    "all_details = []\n",
    "while True:\n",
    "    \n",
    "\n",
    "    currency = driver.find_elements(By.CLASS_NAME,'ListItem__PriceAttrs-sc-1i3osc0-8.ListItem__PriceCurrency-sc-1i3osc0-10.kISOVu') \n",
    "    price = driver.find_elements(By.CLASS_NAME,'ListItem__PriceAttrs-sc-1i3osc0-8.ListItem__PriceValue-sc-1i3osc0-9.dfkLOe')\n",
    "    location = driver.find_elements(By.CLASS_NAME,'ListItem__Location-sc-1i3osc0-5.jkEDAl')\n",
    "    title = driver.find_elements(By.CLASS_NAME,'ListItem__Title-sc-1i3osc0-4.irHTOV')\n",
    "    property_area = driver.find_elements(By.CLASS_NAME, 'ListItem__Fact-sc-1i3osc0-12.cZBzoq')\n",
    "\n",
    "\n",
    "    for i in range(0,len(currency)):\n",
    "\n",
    "        info = {'title':title[i].text ,\n",
    "                'location': location[i].text,\n",
    "                'property_type':\"warehouse\",\n",
    "                'property_area':property_area[i].text ,\n",
    "                'price':price[i].text,\n",
    "                'currency': currency[i].text,\n",
    "                'frequency': 'None'\n",
    "\n",
    "                }\n",
    "        all_details.append(info)\n",
    "    #driver.find_element(By.XPATH,('//body')).send_keys(Keys.CONTROL+Keys.END)\n",
    "    #driver.find_element(By.XPATH,('//body')).send_keys(Keys.CONTROL+Keys.END)\n",
    "    driver.implicitly_wait(2)\n",
    "    try:    \n",
    "        button = driver.find_element(By.XPATH,\"//a[@data-testid='button'][ text()='Next']\")\n",
    "        button.click()\n",
    "    except (TimeoutException, NoSuchElementException, StaleElementReferenceException) as e:\n",
    "        break"
   ]
  },
  {
   "cell_type": "code",
   "execution_count": null,
   "metadata": {},
   "outputs": [],
   "source": [
    "data = pd.DataFrame(all_details)\n",
    "data"
   ]
  },
  {
   "cell_type": "code",
   "execution_count": null,
   "metadata": {},
   "outputs": [],
   "source": [
    "data.to_csv('dubizzle warehouse.csv', index = False)"
   ]
  }
 ],
 "metadata": {
  "kernelspec": {
   "display_name": "Python 3",
   "language": "python",
   "name": "python3"
  },
  "language_info": {
   "codemirror_mode": {
    "name": "ipython",
    "version": 3
   },
   "file_extension": ".py",
   "mimetype": "text/x-python",
   "name": "python",
   "nbconvert_exporter": "python",
   "pygments_lexer": "ipython3",
   "version": "3.8.5"
  }
 },
 "nbformat": 4,
 "nbformat_minor": 4
}
