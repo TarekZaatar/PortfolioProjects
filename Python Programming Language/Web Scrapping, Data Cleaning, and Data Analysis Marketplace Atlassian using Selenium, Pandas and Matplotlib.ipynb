{
 "cells": [
  {
   "cell_type": "markdown",
   "metadata": {},
   "source": [
    "## Importing libraries"
   ]
  },
  {
   "cell_type": "code",
   "execution_count": null,
   "metadata": {},
   "outputs": [],
   "source": [
    "from selenium import webdriver\n",
    "from selenium.webdriver.support.ui import WebDriverWait\n",
    "from selenium.webdriver.common.by import By\n",
    "from selenium.webdriver.support import expected_conditions as EC\n",
    "from selenium.common.exceptions import TimeoutException, NoSuchElementException, StaleElementReferenceException\n",
    "from selenium.webdriver.common.keys import Keys\n",
    "from tqdm import tqdm\n",
    "import pandas as pd\n",
    "import numpy as np\n",
    "import warnings\n",
    "from selenium.webdriver import ActionChains\n",
    "from selenium.webdriver.chrome.options import Options"
   ]
  },
  {
   "cell_type": "code",
   "execution_count": null,
   "metadata": {},
   "outputs": [],
   "source": [
    "chrome_options = Options()\n",
    "chrome_options.add_experimental_option(\"useAutomationExtension\", False)\n",
    "chrome_options.add_experimental_option(\"excludeSwitches\", [\"enable-automation\"])\n",
    "chrome_options.add_argument(\"--start-fullscreen\");"
   ]
  },
  {
   "cell_type": "code",
   "execution_count": null,
   "metadata": {},
   "outputs": [],
   "source": [
    "warnings.filterwarnings(\"ignore\", category=DeprecationWarning) "
   ]
  },
  {
   "cell_type": "markdown",
   "metadata": {},
   "source": [
    "## Opening Website using chrome"
   ]
  },
  {
   "cell_type": "code",
   "execution_count": null,
   "metadata": {},
   "outputs": [],
   "source": [
    "#make sure the chromedriver is upto date\n",
    "path = \"chromedriver.exe\"\n",
    "driver = webdriver.Chrome(path)\n",
    "driver.get(\"https://marketplace.atlassian.com\")\n",
    "driver.maximize_window()\n",
    "\n",
    "action = ActionChains(driver)"
   ]
  },
  {
   "cell_type": "markdown",
   "metadata": {},
   "source": [
    "## Extracting a list of all categories"
   ]
  },
  {
   "cell_type": "code",
   "execution_count": null,
   "metadata": {},
   "outputs": [],
   "source": [
    "list_of_categories = driver.find_elements_by_class_name('ReactCollapse--content')\n",
    "if len(list_of_categories[-1].text) < 60:\n",
    "       c = 0\n",
    "else:\n",
    "       c = -1"
   ]
  },
  {
   "cell_type": "code",
   "execution_count": null,
   "metadata": {},
   "outputs": [],
   "source": [
    "cat_list=list_of_categories[c].text.split('\\n')\n",
    "cat_list"
   ]
  },
  {
   "cell_type": "markdown",
   "metadata": {},
   "source": [
    "## Navigating throught each category"
   ]
  },
  {
   "cell_type": "code",
   "execution_count": null,
   "metadata": {
    "scrolled": true
   },
   "outputs": [],
   "source": [
    "#extracting the links of all apps with their categories\n",
    "listOfLinks = []\n",
    "category_lst = []\n",
    "for cat in cat_list: \n",
    "    element = WebDriverWait(driver, 20).until(EC.presence_of_element_located((By.LINK_TEXT, cat)))\n",
    "    action.move_to_element(element)\n",
    "    action.perform()\n",
    "    element.click()\n",
    "    while True:\n",
    "        try:\n",
    "            #loop until you no longer see the \"More result button\"\n",
    "            driver.implicitly_wait(2)\n",
    "            next_button = WebDriverWait(driver, 20).until(EC.presence_of_element_located((By.CLASS_NAME, 'css-doguem')))\n",
    "            action.move_to_element(next_button)\n",
    "            action.perform()\n",
    "            driver.implicitly_wait(2)\n",
    "            next_button = WebDriverWait(driver, 20).until(EC.element_to_be_clickable((By.CLASS_NAME, 'css-doguem')))\n",
    "            next_button.click()\n",
    "        except (TimeoutException, NoSuchElementException, StaleElementReferenceException) as e:\n",
    "            element = WebDriverWait(driver, 20).until(EC.presence_of_element_located((By.CSS_SELECTOR, 'a.e13wqmfi2.css-1uhn52o-linkCss-linkCss-HitLinkStyled-HitLinkStyled.e11ijshh0')))\n",
    "            app_container = driver.find_elements_by_css_selector('a.e13wqmfi2.css-1uhn52o-linkCss-linkCss-HitLinkStyled-HitLinkStyled.e11ijshh0')\n",
    "            #print(len(app_container))\n",
    "            for link in app_container:\n",
    "                listOfLinks.append(link.get_property('href'))\n",
    "            \n",
    "            driver.implicitly_wait(2)\n",
    "            element = WebDriverWait(driver, 20).until(EC.presence_of_element_located((By.CLASS_NAME, \"css-1hj6rt6-CategoriesStyled.ecweo2c0\")))\n",
    "            categ = driver.find_elements_by_class_name(\"css-1hj6rt6-CategoriesStyled.ecweo2c0\")\n",
    "            for cat in categ:\n",
    "                category_lst.append(cat.text)\n",
    "            \n",
    "            break\n",
    "    driver.back()"
   ]
  },
  {
   "cell_type": "code",
   "execution_count": null,
   "metadata": {},
   "outputs": [],
   "source": [
    "df = pd.DataFrame()\n",
    "df['Link'] = listOfLinks\n",
    "df['Category'] = category_lst\n",
    "df"
   ]
  },
  {
   "cell_type": "code",
   "execution_count": null,
   "metadata": {},
   "outputs": [],
   "source": [
    "#deleting duplicates links because a single app can belong to multiple categories\n",
    "df = df.drop_duplicates(subset=['Link'])\n",
    "df"
   ]
  },
  {
   "cell_type": "markdown",
   "metadata": {},
   "source": [
    "## Extracting the app info"
   ]
  },
  {
   "cell_type": "code",
   "execution_count": null,
   "metadata": {},
   "outputs": [],
   "source": [
    "all_details = []\n",
    "i=0\n",
    "for page in tqdm(df.Link):\n",
    "    driver = webdriver.Chrome(path)\n",
    "    driver.get(page)\n",
    "    driver.maximize_window()\n",
    "    driver.implicitly_wait(6)\n",
    "    try:\n",
    "        App_name = WebDriverWait(driver, 30).until(EC.presence_of_element_located((By.CLASS_NAME, \"css-tz84ge-AppName-baseHeadingsCss-baseHeadingsCss.e1x0fti20\")))\n",
    "        App_name = App_name.text\n",
    "    except (TimeoutException, NoSuchElementException, StaleElementReferenceException) as e:\n",
    "        App_name = np.NaN\n",
    "    \n",
    "    try:\n",
    "        Description = WebDriverWait(driver, 30).until(EC.presence_of_element_located((By.CLASS_NAME, \"css-29syww-H2-baseHeadingsCss-baseHeadingsCss.e1lut4zs2\")))\n",
    "        Description = Description.text   \n",
    "    except (TimeoutException, NoSuchElementException, StaleElementReferenceException) as e:\n",
    "        Description = np.NaN\n",
    "\n",
    "    try:\n",
    "        Num_of_reviews = WebDriverWait(driver, 30).until(EC.presence_of_element_located((By.CLASS_NAME, \"css-1lz6ltt-RatingsCount.e5bskoh1\")))\n",
    "        Num_of_reviews = Num_of_reviews.text\n",
    "    except (TimeoutException, NoSuchElementException, StaleElementReferenceException) as e:\n",
    "        Num_of_reviews = np.NaN\n",
    "    \n",
    "    try:    \n",
    "        Num_of_installs = WebDriverWait(driver, 30).until(EC.presence_of_element_located((By.CLASS_NAME, \"css-1y9uv3s-InstallCountText.e5w14hq2\")))\n",
    "        Num_of_installs = Num_of_installs.text\n",
    "    except (TimeoutException, NoSuchElementException, StaleElementReferenceException) as e:\n",
    "        Num_of_installs = np.NaN\n",
    "    \n",
    "    try:\n",
    "        element = WebDriverWait(driver, 30).until(EC.presence_of_element_located((By.XPATH, '//*[@id=\"app-listing-tabs-2\"]')))\n",
    "        button =driver.find_element_by_xpath('//*[@id=\"app-listing-tabs-2\"]')\n",
    "        button_text =button.text\n",
    "        if button_text == \"Pricing\":\n",
    "            button.click()\n",
    "            driver.implicitly_wait(6)\n",
    "            try:\n",
    "                element = WebDriverWait(driver, 30).until(EC.presence_of_element_located((By.CLASS_NAME, 'css-yfdo61-AppCostContent.eu58ut84')))\n",
    "                price =  driver.find_element_by_class_name('css-yfdo61-AppCostContent.eu58ut84').text\n",
    "            except (TimeoutException, NoSuchElementException, StaleElementReferenceException) as e:\n",
    "                element = WebDriverWait(driver, 30).until(EC.presence_of_element_located((By.CLASS_NAME, 'css-3fpr2v-PricingTierListItemContent.e1hpvo5f6')))\n",
    "                price =  driver.find_elements_by_class_name('css-3fpr2v-PricingTierListItemContent.e1hpvo5f6')[0].text\n",
    "        else:\n",
    "            price = \"Free\"\n",
    "    except (TimeoutException, NoSuchElementException, StaleElementReferenceException) as e:\n",
    "        price = np.NaN\n",
    "    \n",
    "\n",
    "    info = {'App_name':App_name ,\n",
    "            'App_Description': Description,\n",
    "            'Num_of_reviews':Num_of_reviews ,\n",
    "            'Num_of_installs':Num_of_installs,\n",
    "            'Price': price,\n",
    "            'Category': df.Category[i]\n",
    "            'App_link':page\n",
    "            \n",
    "            }\n",
    "    i=i+1\n",
    "    all_details.append(info)"
   ]
  },
  {
   "cell_type": "code",
   "execution_count": null,
   "metadata": {},
   "outputs": [],
   "source": [
    "all_details"
   ]
  },
  {
   "cell_type": "markdown",
   "metadata": {},
   "source": [
    "## Converting the info to a dataframe"
   ]
  },
  {
   "cell_type": "code",
   "execution_count": null,
   "metadata": {},
   "outputs": [],
   "source": [
    "data = pd.DataFrame(all_details)\n",
    "data"
   ]
  },
  {
   "cell_type": "markdown",
   "metadata": {},
   "source": [
    "## Cleaning the data"
   ]
  },
  {
   "cell_type": "code",
   "execution_count": null,
   "metadata": {},
   "outputs": [],
   "source": [
    "data.columns"
   ]
  },
  {
   "cell_type": "code",
   "execution_count": null,
   "metadata": {},
   "outputs": [],
   "source": [
    "#ordering by link\n",
    "data = data.sort_values(by=['App_link'])"
   ]
  },
  {
   "cell_type": "code",
   "execution_count": null,
   "metadata": {},
   "outputs": [],
   "source": [
    "data.to_csv('all apps.csv', index = False)"
   ]
  },
  {
   "cell_type": "code",
   "execution_count": null,
   "metadata": {},
   "outputs": [],
   "source": [
    "#removing all missing values\n",
    "data = data.dropna(how='any',axis=0).reset_index(drop=True)"
   ]
  },
  {
   "cell_type": "code",
   "execution_count": null,
   "metadata": {},
   "outputs": [],
   "source": [
    "#cleaning the num of installs columns\n",
    "data['Num_of_installs'] = data.Num_of_installs.str.replace('installs' , '')\n",
    "data['Num_of_installs'] = data.Num_of_installs.str.replace('install' , '')\n",
    "data['Num_of_installs'] = data.Num_of_installs.str.replace('downloads' , '')\n",
    "data['Num_of_installs'] = data.Num_of_installs.str.replace(',' , '')\n",
    "data['Num_of_installs'] = data.Num_of_installs.str.replace('New!' , '0')\n",
    "data['Num_of_installs'] = data.Num_of_installs.str.replace('k' , '000')\n",
    "data['Num_of_installs'] = data.Num_of_installs.str.replace('Preinstalled' , '0')\n",
    "data['Num_of_installs'] = data.Num_of_installs.str.replace('Preed' , '0')\n",
    "data['Num_of_installs'] = data.Num_of_installs.str.strip()\n",
    "data['Num_of_installs'] = data.Num_of_installs.astype(int)\n",
    "data"
   ]
  },
  {
   "cell_type": "code",
   "execution_count": null,
   "metadata": {},
   "outputs": [],
   "source": [
    "#cleaning the num of reviews columns\n",
    "data['Num_of_reviews'] = data.Num_of_reviews.str.replace('k' , '000')\n",
    "data['Num_of_reviews'] = data.Num_of_reviews.astype(int)"
   ]
  },
  {
   "cell_type": "code",
   "execution_count": null,
   "metadata": {},
   "outputs": [],
   "source": [
    "#cleaning the price columns\n",
    "data['Price'] = data.Price.str.replace('\\n',' ')"
   ]
  },
  {
   "cell_type": "markdown",
   "metadata": {},
   "source": [
    "## Saving dataframe to csv file"
   ]
  },
  {
   "cell_type": "code",
   "execution_count": null,
   "metadata": {},
   "outputs": [],
   "source": [
    "data.to_csv('all apps - cleaned.csv', index = False)"
   ]
  },
  {
   "cell_type": "markdown",
   "metadata": {},
   "source": [
    "## Extracting Time tracking applications"
   ]
  },
  {
   "cell_type": "code",
   "execution_count": null,
   "metadata": {},
   "outputs": [],
   "source": [
    "time_tracking = data[data['Category'].str.contains('Time tracking', regex=False)]\n",
    "time_tracking = time_tracking.reset_index(drop=True)"
   ]
  },
  {
   "cell_type": "code",
   "execution_count": null,
   "metadata": {},
   "outputs": [],
   "source": [
    "time_tracking.columns"
   ]
  },
  {
   "cell_type": "code",
   "execution_count": null,
   "metadata": {},
   "outputs": [],
   "source": [
    "import matplotlib.pyplot as plt\n",
    "plt.plot(time_tracking['Num_of_installs'])"
   ]
  },
  {
   "cell_type": "code",
   "execution_count": null,
   "metadata": {},
   "outputs": [],
   "source": [
    "plt.boxplot(time_tracking['Num_of_installs'].values)"
   ]
  },
  {
   "cell_type": "code",
   "execution_count": null,
   "metadata": {},
   "outputs": [],
   "source": [
    "x = time_tracking[time_tracking['Num_of_installs'] < 175]"
   ]
  },
  {
   "cell_type": "code",
   "execution_count": null,
   "metadata": {},
   "outputs": [],
   "source": [
    "plt.boxplot(x.Num_of_installs)"
   ]
  },
  {
   "cell_type": "code",
   "execution_count": null,
   "metadata": {},
   "outputs": [],
   "source": [
    "plt.hist(x.Num_of_installs,bins = 10,histtype='step')\n",
    "plt.show()"
   ]
  }
 ],
 "metadata": {
  "kernelspec": {
   "display_name": "Python 3",
   "language": "python",
   "name": "python3"
  },
  "language_info": {
   "codemirror_mode": {
    "name": "ipython",
    "version": 3
   },
   "file_extension": ".py",
   "mimetype": "text/x-python",
   "name": "python",
   "nbconvert_exporter": "python",
   "pygments_lexer": "ipython3",
   "version": "3.8.5"
  }
 },
 "nbformat": 4,
 "nbformat_minor": 4
}
