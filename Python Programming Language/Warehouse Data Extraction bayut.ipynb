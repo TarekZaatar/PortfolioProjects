{
 "cells": [
  {
   "cell_type": "markdown",
   "metadata": {},
   "source": [
    "## Importing libraries"
   ]
  },
  {
   "cell_type": "code",
   "execution_count": null,
   "metadata": {},
   "outputs": [],
   "source": [
    "from selenium import webdriver\n",
    "from selenium.webdriver.support.ui import WebDriverWait\n",
    "from selenium.webdriver.common.by import By\n",
    "from selenium.webdriver.support import expected_conditions as EC\n",
    "from selenium.common.exceptions import TimeoutException, NoSuchElementException, StaleElementReferenceException\n",
    "from selenium.webdriver.common.keys import Keys\n",
    "from tqdm import tqdm\n",
    "import pandas as pd\n",
    "import numpy as np\n",
    "import warnings\n",
    "from selenium.webdriver import ActionChains\n",
    "from selenium.webdriver.chrome.options import Options"
   ]
  },
  {
   "cell_type": "code",
   "execution_count": null,
   "metadata": {},
   "outputs": [],
   "source": [
    "chrome_options = Options()\n",
    "chrome_options.add_experimental_option(\"useAutomationExtension\", False)\n",
    "chrome_options.add_experimental_option(\"excludeSwitches\", [\"enable-automation\"])\n",
    "chrome_options.add_argument(\"--start-fullscreen\");"
   ]
  },
  {
   "cell_type": "markdown",
   "metadata": {},
   "source": [
    "### Ignore warnings"
   ]
  },
  {
   "cell_type": "code",
   "execution_count": null,
   "metadata": {},
   "outputs": [],
   "source": [
    "warnings.filterwarnings(\"ignore\", category=DeprecationWarning) "
   ]
  },
  {
   "cell_type": "markdown",
   "metadata": {},
   "source": [
    "## Opening Website using chrome"
   ]
  },
  {
   "cell_type": "code",
   "execution_count": null,
   "metadata": {},
   "outputs": [],
   "source": [
    "path = \"chromedriver.exe\"\n",
    "driver = webdriver.Chrome(path)\n",
    "driver.get(\"https://www.bayut.com/to-rent/warehouses/ajman/?locations=%2Fsharjah%2C%2Fdubai%2C%2Fumm-al-quwain%2C%2Fras-al-khaimah\")\n",
    "driver.maximize_window()\n",
    "\n",
    "action = ActionChains(driver)"
   ]
  },
  {
   "cell_type": "markdown",
   "metadata": {},
   "source": [
    "## Extracting information"
   ]
  },
  {
   "cell_type": "code",
   "execution_count": null,
   "metadata": {},
   "outputs": [],
   "source": [
    "info = {}\n",
    "all_details = []\n",
    "while True:\n",
    "    \n",
    "\n",
    "    currency = driver.find_elements(By.CLASS_NAME,'c2cc9762') \n",
    "    price = driver.find_elements(By.CLASS_NAME,'f343d9ce')\n",
    "    frequency = driver.find_elements(By.CLASS_NAME,'e76c7aca')\n",
    "    location = driver.find_elements(By.CLASS_NAME,'_7afabd84')\n",
    "    property_type = driver.find_elements(By.CLASS_NAME,'_9a4e3964')\n",
    "    title = driver.find_elements(By.CLASS_NAME,'_7f17f34f')\n",
    "    property_area = driver.find_elements(By.XPATH, \"//span[@class='b6a29bc0'][@aria-label='Area']\")\n",
    "\n",
    "    area2 =driver.find_elements(By.XPATH, \"//div[@aria-label='Area']/div[@class='b6a29bc0']\");\n",
    "\n",
    "\n",
    "    for i in range(0,len(currency)):\n",
    "\n",
    "        info = {'title':title[i].text ,\n",
    "                'location': location[i].text,\n",
    "                'property_type':property_type[i].text,\n",
    "                'property_area':property_area[i].text ,\n",
    "                'price':price[i].text,\n",
    "                'currency': currency[i].text,\n",
    "                'frequency': frequency[i].text\n",
    "\n",
    "                }\n",
    "        all_details.append(info)\n",
    "    driver.find_element(By.XPATH,('//body')).send_keys(Keys.CONTROL+Keys.END)\n",
    "    driver.find_element(By.XPATH,('//body')).send_keys(Keys.CONTROL+Keys.END)\n",
    "    driver.implicitly_wait(2)\n",
    "    try:    \n",
    "        button = driver.find_element(By.XPATH,\"//div[@title='Next']\")\n",
    "        button.click()\n",
    "    except (TimeoutException, NoSuchElementException, StaleElementReferenceException) as e:\n",
    "        break"
   ]
  },
  {
   "cell_type": "code",
   "execution_count": null,
   "metadata": {},
   "outputs": [],
   "source": [
    "data = pd.DataFrame(all_details)\n",
    "data"
   ]
  },
  {
   "cell_type": "code",
   "execution_count": null,
   "metadata": {},
   "outputs": [],
   "source": [
    "data.to_csv('bayut warehouse.csv', index = False)"
   ]
  }
 ],
 "metadata": {
  "kernelspec": {
   "display_name": "Python 3",
   "language": "python",
   "name": "python3"
  },
  "language_info": {
   "codemirror_mode": {
    "name": "ipython",
    "version": 3
   },
   "file_extension": ".py",
   "mimetype": "text/x-python",
   "name": "python",
   "nbconvert_exporter": "python",
   "pygments_lexer": "ipython3",
   "version": "3.8.5"
  }
 },
 "nbformat": 4,
 "nbformat_minor": 4
}
