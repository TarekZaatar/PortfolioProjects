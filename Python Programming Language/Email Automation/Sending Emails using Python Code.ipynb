{
 "cells": [
  {
   "cell_type": "code",
   "execution_count": null,
   "metadata": {},
   "outputs": [],
   "source": [
    "import smtplib\n",
    "from email.mime.multipart import MIMEMultipart\n",
    "from email.mime.text import MIMEText\n",
    "from email.mime.base import MIMEBase\n",
    "from email import encoders\n",
    "mail_content = '''Hello,\n",
    "This is a test mail.\n",
    "In this mail we are sending some attachments.\n",
    "The mail is sent using Python SMTP library.\n",
    "Thank You\n",
    "'''\n",
    "#The mail addresses and password\n",
    "sender_address = 'PUTYOUREMAIL'\n",
    "sender_pass = 'PUTYOURPASS'\n",
    "receiver_address = 'RECEIVER EMAIL '\n",
    "\n",
    "#Setup the MIME\n",
    "message = MIMEMultipart()\n",
    "message['From'] = sender_address\n",
    "message['To'] = receiver_address\n",
    "message['Subject'] = 'A test mail sent by Python. It has an attachment.'\n",
    "\n",
    "\n",
    "#The subject line\n",
    "#The body and the attachments for the mail\n",
    "message.attach(MIMEText(mail_content, 'plain'))\n",
    "attach_file_name = 'Noon.csv'\n",
    "attach_file = open(attach_file_name, 'rb') # Open the file as binary mode\n",
    "payload = MIMEBase('application', 'octate-stream')\n",
    "payload.set_payload((attach_file).read())\n",
    "encoders.encode_base64(payload) #encode the attachment\n",
    "\n",
    "#add payload header with filename\n",
    "payload.add_header('Content-Decomposition', 'attachment', filename=attach_file_name)\n",
    "message.attach(payload)\n",
    "\n",
    "#Create SMTP session for sending the mail\n",
    "session = smtplib.SMTP('smtp.gmail.com', 587) #use gmail with port\n",
    "session.starttls() #enable security\n",
    "session.login(sender_address, sender_pass) #login with mail_id and password\n",
    "text = message.as_string()\n",
    "session.sendmail(sender_address, receiver_address, text)\n",
    "session.quit()\n",
    "print('Mail Sent')"
   ]
  },
  {
   "cell_type": "code",
   "execution_count": null,
   "metadata": {},
   "outputs": [],
   "source": []
  }
 ],
 "metadata": {
  "kernelspec": {
   "display_name": "Python 3",
   "language": "python",
   "name": "python3"
  },
  "language_info": {
   "codemirror_mode": {
    "name": "ipython",
    "version": 3
   },
   "file_extension": ".py",
   "mimetype": "text/x-python",
   "name": "python",
   "nbconvert_exporter": "python",
   "pygments_lexer": "ipython3",
   "version": "3.8.5"
  }
 },
 "nbformat": 4,
 "nbformat_minor": 4
}
